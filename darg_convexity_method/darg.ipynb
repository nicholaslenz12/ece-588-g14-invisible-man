{
 "cells": [
  {
   "cell_type": "code",
   "execution_count": null,
   "metadata": {},
   "outputs": [],
   "source": [
    "import cv2\n",
    "import matplotlib.pyplot as plt\n",
    "import numpy as np\n",
    "from scipy.signal import medfilt\n",
    "from scipy.ndimage import gaussian_filter"
   ]
  },
  {
   "cell_type": "code",
   "execution_count": null,
   "metadata": {},
   "outputs": [],
   "source": [
    "def d_arg(image_in, sz=1):\n",
    "    #  image_filt = gaussian_filter(image_in, sigma=sz)\n",
    "    image_in = medfilt(image_in, kernel_size=sz)\n",
    "    d_arg = np.zeros(image_in.shape)\n",
    "\n",
    "    for i in range(4):    \n",
    "        # Rotate image in 90 deg increments, compute angle of gradient\n",
    "        image_rot = np.rot90(image_in, i)\n",
    "        grad_x,grad_y = np.gradient(image_rot)\n",
    "        theta = np.arctan2(grad_y, grad_x)\n",
    "\n",
    "        # Blur\n",
    "        theta = gaussian_filter(theta, sigma=sz)\n",
    "        \n",
    "        # Compute change of angle of gradient in y direction (\\alpha_{arg}, y_arg in direction 90*i)\n",
    "        theta_grad_y = np.gradient(theta, axis=1)\n",
    "        \n",
    "        # Rotate back and add to total (accumulate darg)\n",
    "        d_arg += np.rot90(theta_grad_y, -i)\n",
    "        \n",
    "        # Normalize and scale\n",
    "        d_arg_2 = np.square(d_arg);\n",
    "        d_arg_final = d_arg_2 / np.amax(d_arg_2) * 255\n",
    "    \n",
    "    return d_arg_final"
   ]
  },
  {
   "cell_type": "code",
   "execution_count": null,
   "metadata": {},
   "outputs": [],
   "source": [
    "if __name__ == '__main__':\n",
    "    \n",
    "    # Load\n",
    "    im = cv2.imread(\"../Images/Images_from_Liu_Bolin_s_site/Liu17.jpg\")\n",
    "    grayscale = cv2.cvtColor(im, cv2.COLOR_BGR2GRAY)\n",
    "    im_out = d_arg(grayscale, 7).astype('uint8')\n",
    "    \n",
    "    # Threshold\n",
    "    _, masks = cv2.threshold(im_out, 0.65 * 255, 255, cv2.THRESH_BINARY)\n",
    "    im_final = cv2.cvtColor(masks, cv2.COLOR_GRAY2RGB)\n",
    "    \n",
    "    # Show output and overlay\n",
    "    plt.figure(figsize=(15,15))\n",
    "    plt.imshow(im_final)\n",
    "    plt.figure(figsize=(15,15))\n",
    "    out = cv2.cvtColor(image, cv2.COLOR_BGR2RGB)\n",
    "    out[im_final != 0] = 0\n",
    "    im_final[:, :, 1:3] = 0\n",
    "    plt.imshow(out / 255 * 0.4 + im_final / 255)"
   ]
  },
  {
   "cell_type": "code",
   "execution_count": null,
   "metadata": {},
   "outputs": [],
   "source": []
  }
 ],
 "metadata": {
  "kernelspec": {
   "display_name": "Python 3",
   "language": "python",
   "name": "python3"
  },
  "language_info": {
   "codemirror_mode": {
    "name": "ipython",
    "version": 3
   },
   "file_extension": ".py",
   "mimetype": "text/x-python",
   "name": "python",
   "nbconvert_exporter": "python",
   "pygments_lexer": "ipython3",
   "version": "3.8.3"
  }
 },
 "nbformat": 4,
 "nbformat_minor": 4
}
